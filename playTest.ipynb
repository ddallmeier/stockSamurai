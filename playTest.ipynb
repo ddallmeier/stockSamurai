{
 "cells": [
  {
   "cell_type": "code",
   "execution_count": 15,
   "metadata": {},
   "outputs": [],
   "source": [
    "import yfinance as yf\n",
    "import matplotlib.pyplot as plt\n",
    "from datetime import datetime, timedelta\n",
    "import plotly.graph_objects as go\n",
    "import plotly.express as px\n",
    "from dash import Dash, dcc, html, Input, Output\n",
    "import pandas as pd\n",
    "import seaborn as sns\n",
    "import numpy as np"
   ]
  },
  {
   "cell_type": "code",
   "execution_count": 21,
   "metadata": {},
   "outputs": [
    {
     "data": {
      "text/plain": [
       "float"
      ]
     },
     "execution_count": 21,
     "metadata": {},
     "output_type": "execute_result"
    }
   ],
   "source": [
    "def sustainability(ticker):\n",
    "    env = yf.Ticker(ticker).sustainability\n",
    "    env = env.iloc[-3].Value\n",
    "    return env\n",
    "\n",
    "def total_esg(ticker):\n",
    "    env = yf.Ticker(ticker).sustainability\n",
    "    env = env.iloc[-12].Value\n",
    "    return env\n",
    "\n",
    "def percentilez(ticker):\n",
    "    env = yf.Ticker(ticker).sustainability\n",
    "    env = env.iloc[-6].Value\n",
    "    return env\n",
    "\n",
    "green = percentilez('msft')\n",
    "type(green)"
   ]
  },
  {
   "cell_type": "code",
   "execution_count": null,
   "metadata": {},
   "outputs": [],
   "source": []
  },
  {
   "cell_type": "code",
   "execution_count": 17,
   "metadata": {},
   "outputs": [],
   "source": [
    "# ## TODO LOOP through tickers and average green/esg/percentile\n",
    "# def sustainability(ticker):\n",
    "#     env = yf.Ticker(ticker).sustainability\n",
    "#     env = env.iloc[-3].Value\n",
    "#     return env\n",
    "\n",
    "# def total_esg(ticker):\n",
    "#     env = yf.Ticker(ticker).sustainability\n",
    "#     env = env.iloc[-12].Value\n",
    "#     return env\n",
    "\n",
    "# def percentilez(ticker):\n",
    "#     env = yf.Ticker(ticker).sustainability\n",
    "#     env = env.iloc[-6].Value\n",
    "#     return env\n",
    "\n",
    "# df = pd.read_csv('data/tickers.csv')\n",
    "\n",
    "# for index, row in df.iterrows():\n",
    "#     ticker = row['Ticker']\n",
    "#     print(ticker)\n",
    "#     green = yf.Ticker(ticker).sustainability\n",
    "#     green = green.iloc[-3].Value\n",
    "#     print(green)\n",
    "#     # esg = total_esg(ticker)\n",
    "#     # percentile = percentilez(ticker)\n",
    "#     # print (ticker, green, esg, percentile)\n",
    "\n",
    "\n",
    "\n"
   ]
  },
  {
   "cell_type": "code",
   "execution_count": null,
   "metadata": {},
   "outputs": [],
   "source": []
  }
 ],
 "metadata": {
  "kernelspec": {
   "display_name": "Python 3.9.7 ('base')",
   "language": "python",
   "name": "python3"
  },
  "language_info": {
   "codemirror_mode": {
    "name": "ipython",
    "version": 3
   },
   "file_extension": ".py",
   "mimetype": "text/x-python",
   "name": "python",
   "nbconvert_exporter": "python",
   "pygments_lexer": "ipython3",
   "version": "3.9.13"
  },
  "orig_nbformat": 4,
  "vscode": {
   "interpreter": {
    "hash": "d5b6ac1b778e768f422564fa89fbd074884b66f60d7317bc5261eeefc470df22"
   }
  }
 },
 "nbformat": 4,
 "nbformat_minor": 2
}
