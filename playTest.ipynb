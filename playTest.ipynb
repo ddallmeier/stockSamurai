{
 "cells": [
  {
   "cell_type": "code",
   "execution_count": 5,
   "metadata": {},
   "outputs": [],
   "source": [
    "import yfinance as yf"
   ]
  },
  {
   "cell_type": "code",
   "execution_count": 57,
   "metadata": {},
   "outputs": [],
   "source": [
    "def get_data(ticker, start, end):\n",
    "    data = yf.download(ticker, start=start, end=end)\n",
    "    return data\n",
    "\n",
    "def sustainability(ticker):\n",
    "    env = yf.Ticker(ticker).sustainability\n",
    "    env = data2.iloc[-3].Value\n",
    "    return env\n",
    "\n",
    "def get_financials(ticker):\n",
    "    fin = yf.Ticker(ticker).financials\n",
    "    return fin\n",
    "\n",
    "def get_recommendations(ticker):\n",
    "    rec = yf.Ticker(ticker).recommendations\n",
    "    rec = rec.tail(5).values[:, 0:2]\n",
    "    return rec\n",
    "\n",
    "def get_earnings(ticker):\n",
    "    earn = yf.Ticker(ticker).earnings\n",
    "    return earn\n",
    "\n",
    "def get_quarterly_earnings(ticker):\n",
    "    qearn = yf.Ticker(ticker).quarterly_earnings\n",
    "    return qearn\n"
   ]
  },
  {
   "cell_type": "code",
   "execution_count": 43,
   "metadata": {},
   "outputs": [
    {
     "data": {
      "text/plain": [
       "array(['Outperform', 'Outperform', 'Outperform', 'Buy', 'Neutral'],\n",
       "      dtype=object)"
      ]
     },
     "execution_count": 43,
     "metadata": {},
     "output_type": "execute_result"
    }
   ],
   "source": [
    "get_recommendations('MSFT')"
   ]
  },
  {
   "cell_type": "code",
   "execution_count": null,
   "metadata": {},
   "outputs": [],
   "source": []
  },
  {
   "cell_type": "code",
   "execution_count": null,
   "metadata": {},
   "outputs": [],
   "source": []
  }
 ],
 "metadata": {
  "kernelspec": {
   "display_name": "Python 3.9.7 ('base')",
   "language": "python",
   "name": "python3"
  },
  "language_info": {
   "codemirror_mode": {
    "name": "ipython",
    "version": 3
   },
   "file_extension": ".py",
   "mimetype": "text/x-python",
   "name": "python",
   "nbconvert_exporter": "python",
   "pygments_lexer": "ipython3",
   "version": "3.9.7"
  },
  "orig_nbformat": 4,
  "vscode": {
   "interpreter": {
    "hash": "d5b6ac1b778e768f422564fa89fbd074884b66f60d7317bc5261eeefc470df22"
   }
  }
 },
 "nbformat": 4,
 "nbformat_minor": 2
}
