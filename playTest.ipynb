{
 "cells": [
  {
   "cell_type": "code",
   "execution_count": 2,
   "metadata": {},
   "outputs": [
    {
     "ename": "ModuleNotFoundError",
     "evalue": "No module named 'plotly'",
     "output_type": "error",
     "traceback": [
      "\u001b[1;31m---------------------------------------------------------------------------\u001b[0m",
      "\u001b[1;31mModuleNotFoundError\u001b[0m                       Traceback (most recent call last)",
      "\u001b[1;32m<ipython-input-2-03f5a3f69e7a>\u001b[0m in \u001b[0;36m<module>\u001b[1;34m\u001b[0m\n\u001b[0;32m      2\u001b[0m \u001b[1;32mimport\u001b[0m \u001b[0mmatplotlib\u001b[0m\u001b[1;33m.\u001b[0m\u001b[0mpyplot\u001b[0m \u001b[1;32mas\u001b[0m \u001b[0mplt\u001b[0m\u001b[1;33m\u001b[0m\u001b[1;33m\u001b[0m\u001b[0m\n\u001b[0;32m      3\u001b[0m \u001b[1;32mfrom\u001b[0m \u001b[0mdatetime\u001b[0m \u001b[1;32mimport\u001b[0m \u001b[0mdatetime\u001b[0m\u001b[1;33m,\u001b[0m \u001b[0mtimedelta\u001b[0m\u001b[1;33m\u001b[0m\u001b[1;33m\u001b[0m\u001b[0m\n\u001b[1;32m----> 4\u001b[1;33m \u001b[1;32mimport\u001b[0m \u001b[0mplotly\u001b[0m\u001b[1;33m\u001b[0m\u001b[1;33m\u001b[0m\u001b[0m\n\u001b[0m\u001b[0;32m      5\u001b[0m \u001b[1;32mimport\u001b[0m \u001b[0mdash\u001b[0m\u001b[1;33m\u001b[0m\u001b[1;33m\u001b[0m\u001b[0m\n",
      "\u001b[1;31mModuleNotFoundError\u001b[0m: No module named 'plotly'"
     ]
    }
   ],
   "source": [
    "import yfinance as yf\n",
    "import matplotlib.pyplot as plt\n",
    "from datetime import datetime, timedelta\n",
    "import plotly\n",
    "import dash"
   ]
  },
  {
   "cell_type": "code",
   "execution_count": 19,
   "metadata": {},
   "outputs": [],
   "source": [
    "def get_data(ticker, start, end):\n",
    "    data = yf.download(ticker, start=start, end=end)\n",
    "    return data\n",
    "\n",
    "def get_graph(ticker, dayz):\n",
    "    \"\"\"\n",
    "    This is a function to get a graph of the stock price over the last X days.\n",
    "\n",
    "    \"\"\"\n",
    "    start = datetime.now()\n",
    "    end = datetime.today() - timedelta(days=dayz)\n",
    "    data = yf.download('msft', start=end, end=start)\n",
    "    data.Close.plot()\n",
    "    plt.show()\n",
    "\n",
    "def sustainability(ticker):\n",
    "    \"\"\"\n",
    "    This is a function to get the sustainability of a company.\n",
    "\n",
    "    \"\"\"\n",
    "    env = yf.Ticker(ticker).sustainability\n",
    "    env = data2.iloc[-3].Value\n",
    "    return env\n",
    "\n",
    "def get_financials(ticker):\n",
    "    \"\"\"\n",
    "    This is a function to get the financials of a company.\n",
    "\n",
    "    \"\"\"\n",
    "    fin = yf.Ticker(ticker).financials\n",
    "    return fin\n",
    "\n",
    "def get_recommendations(ticker):\n",
    "    \"\"\"\n",
    "    This is a function to get the recommendations of a company.\n",
    "\n",
    "    \"\"\"\n",
    "    rec = yf.Ticker(ticker).recommendations\n",
    "    rec = rec.tail(5).values[:, 0:2]\n",
    "    return rec\n",
    "\n",
    "def get_earnings(ticker):\n",
    "    \"\"\"\n",
    "    This is a function to get the earnings of a company.\n",
    "\n",
    "    \"\"\"\n",
    "    earn = yf.Ticker(ticker).earnings\n",
    "    return earn\n",
    "\n",
    "def get_quarterly_earnings(ticker):\n",
    "    \"\"\"\n",
    "    This is a function to get the quarterly earnings of a company.\n",
    "\n",
    "    \"\"\"\n",
    "    qearn = yf.Ticker(ticker).quarterly_earnings\n",
    "    return qearn\n",
    "\n"
   ]
  },
  {
   "cell_type": "code",
   "execution_count": null,
   "metadata": {},
   "outputs": [],
   "source": []
  }
 ],
 "metadata": {
  "kernelspec": {
   "display_name": "Python 3.7.6 ('base')",
   "language": "python",
   "name": "python3"
  },
  "language_info": {
   "codemirror_mode": {
    "name": "ipython",
    "version": 3
   },
   "file_extension": ".py",
   "mimetype": "text/x-python",
   "name": "python",
   "nbconvert_exporter": "python",
   "pygments_lexer": "ipython3",
   "version": "3.7.6"
  },
  "orig_nbformat": 4,
  "vscode": {
   "interpreter": {
    "hash": "c4b873e07bceb12c2b9a42b36e7722015039dfeed477cfe3ebf1d2c97eb81cf7"
   }
  }
 },
 "nbformat": 4,
 "nbformat_minor": 2
}
