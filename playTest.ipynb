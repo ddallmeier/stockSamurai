{
 "cells": [
  {
   "cell_type": "code",
   "execution_count": 15,
   "metadata": {},
   "outputs": [],
   "source": [
    "import yfinance as yf\n",
    "import matplotlib.pyplot as plt\n",
    "from datetime import datetime, timedelta\n",
    "import plotly.graph_objects as go\n",
    "import plotly.express as px\n",
    "from dash import Dash, dcc, html, Input, Output\n",
    "import pandas as pd\n",
    "import seaborn as sns\n",
    "import numpy as np"
   ]
  },
  {
   "cell_type": "code",
   "execution_count": 21,
   "metadata": {},
   "outputs": [
    {
     "data": {
      "text/plain": [
       "float"
      ]
     },
     "execution_count": 21,
     "metadata": {},
     "output_type": "execute_result"
    }
   ],
   "source": [
    "def sustainability(ticker):\n",
    "    env = yf.Ticker(ticker).sustainability\n",
    "    env = env.iloc[-3].Value\n",
    "    return env\n",
    "\n",
    "def total_esg(ticker):\n",
    "    env = yf.Ticker(ticker).sustainability\n",
    "    env = env.iloc[-12].Value\n",
    "    return env\n",
    "\n",
    "def percentilez(ticker):\n",
    "    env = yf.Ticker(ticker).sustainability\n",
    "    env = env.iloc[-6].Value\n",
    "    return env\n",
    "\n",
    "green = percentilez('msft')\n",
    "type(green)"
   ]
  },
  {
   "cell_type": "code",
   "execution_count": null,
   "metadata": {},
   "outputs": [],
   "source": []
  },
  {
   "cell_type": "code",
   "execution_count": null,
   "metadata": {},
   "outputs": [],
   "source": []
  },
  {
   "cell_type": "code",
   "execution_count": 17,
   "metadata": {},
   "outputs": [],
   "source": [
    "# ## TODO LOOP through tickers and average green/esg/percentile\n",
    "# def sustainability(ticker):\n",
    "#     env = yf.Ticker(ticker).sustainability\n",
    "#     env = env.iloc[-3].Value\n",
    "#     return env\n",
    "\n",
    "# def total_esg(ticker):\n",
    "#     env = yf.Ticker(ticker).sustainability\n",
    "#     env = env.iloc[-12].Value\n",
    "#     return env\n",
    "\n",
    "# def percentilez(ticker):\n",
    "#     env = yf.Ticker(ticker).sustainability\n",
    "#     env = env.iloc[-6].Value\n",
    "#     return env\n",
    "\n",
    "# df = pd.read_csv('data/tickers.csv')\n",
    "\n",
    "# for index, row in df.iterrows():\n",
    "#     ticker = row['Ticker']\n",
    "#     print(ticker)\n",
    "#     green = yf.Ticker(ticker).sustainability\n",
    "#     green = green.iloc[-3].Value\n",
    "#     print(green)\n",
    "#     # esg = total_esg(ticker)\n",
    "#     # percentile = percentilez(ticker)\n",
    "#     # print (ticker, green, esg, percentile)\n",
    "\n",
    "\n",
    "\n"
   ]
  },
  {
   "cell_type": "code",
   "execution_count": null,
   "metadata": {},
   "outputs": [],
   "source": []
  },
  {
   "cell_type": "code",
   "execution_count": null,
   "metadata": {},
   "outputs": [],
   "source": [
    "def get_data(ticker, start, end):\n",
    "    data = yf.download(ticker, start=start, end=end)\n",
    "    return data\n",
    "\n",
    "def get_graph(ticker, dayz):\n",
    "    \"\"\"\n",
    "    This is a function to get a graph of the stock price over the last X days.\n",
    "\n",
    "    \"\"\"\n",
    "    start = datetime.now()\n",
    "    end = datetime.today() - timedelta(days=dayz)\n",
    "    data = yf.download('msft', start=end, end=start)\n",
    "    data.Close.plot()\n",
    "    plt.show()\n",
    "\n",
    "def sustainability(ticker):\n",
    "    \"\"\"\n",
    "    This is a function to get the sustainability of a company.\n",
    "\n",
    "    \"\"\"\n",
    "    env = yf.Ticker(ticker).sustainability\n",
    "    env = data2.iloc[-3].Value\n",
    "    return env\n",
    "\n",
    "def get_financials(ticker):\n",
    "    \"\"\"\n",
    "    This is a function to get the financials of a company.\n",
    "\n",
    "    \"\"\"\n",
    "    fin = yf.Ticker(ticker).financials\n",
    "    return fin\n",
    "\n",
    "def get_recommendations(ticker):\n",
    "    \"\"\"\n",
    "    This is a function to get the recommendations of a company.\n",
    "\n",
    "    \"\"\"\n",
    "    rec = yf.Ticker(ticker).recommendations\n",
    "    rec = rec.tail(5).values[:, 0:2]\n",
    "    return rec\n",
    "\n",
    "def get_earnings(ticker):\n",
    "    \"\"\"\n",
    "    This is a function to get the earnings of a company.\n",
    "\n",
    "    \"\"\"\n",
    "    earn = yf.Ticker(ticker).earnings\n",
    "    return earn\n",
    "\n",
    "def get_quarterly_earnings(ticker):\n",
    "    \"\"\"\n",
    "    This is a function to get the quarterly earnings of a company.\n",
    "\n",
    "    \"\"\"\n",
    "    qearn = yf.Ticker(ticker).quarterly_earnings\n",
    "    return qearn"
   ]
  }
 ],
 "metadata": {
  "kernelspec": {
   "display_name": "Python 3.9.7 ('base')",
   "language": "python",
   "name": "python3"
  },
  "language_info": {
   "codemirror_mode": {
    "name": "ipython",
    "version": 3
   },
   "file_extension": ".py",
   "mimetype": "text/x-python",
   "name": "python",
   "nbconvert_exporter": "python",
   "pygments_lexer": "ipython3",
   "version": "3.9.13"
  },
  "orig_nbformat": 4,
  "vscode": {
   "interpreter": {
    "hash": "d5b6ac1b778e768f422564fa89fbd074884b66f60d7317bc5261eeefc470df22"
   }
  }
 },
 "nbformat": 4,
 "nbformat_minor": 2
}
